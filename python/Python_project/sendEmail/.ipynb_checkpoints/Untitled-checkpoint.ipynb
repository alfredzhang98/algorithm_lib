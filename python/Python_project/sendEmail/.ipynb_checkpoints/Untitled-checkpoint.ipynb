{
 "cells": [
  {
   "cell_type": "code",
   "execution_count": 2,
   "id": "271134b4",
   "metadata": {},
   "outputs": [],
   "source": [
    "import smtplib\n",
    "from email.header import Header\n",
    "from email.mime.text import MIMEText\n",
    "import pandas as pd"
   ]
  },
  {
   "cell_type": "code",
   "execution_count": 10,
   "id": "d2c109a9",
   "metadata": {},
   "outputs": [
    {
     "name": "stdout",
     "output_type": "stream",
     "text": [
      "    姓名：姓名\\n抵达机场：飞机抵达英国地点\\n抵达时间：飞机到达时间（机票上的时间 英国时间）\\n抵达航站楼：到达航站楼\\n抵达航班号：到达航班号\\n携带行李数：预计携带大件行李（行李箱）数量\\n公寓地址：英国公寓地址 （没有就写无，宿舍出来了随时可以修改表单）\\n公寓邮编：英国公寓邮编（没有就写无，宿舍出来了随时可以修改表单）\\n电话：手机号\\n\n",
      "350  姓名：Yvonne Huang\\n抵达机场：伦敦希思罗机场\\n抵达时间：2022/09/18...                                                                                                                            \n"
     ]
    }
   ],
   "source": [
    "start = 350\n",
    "end = 351\n",
    "data=pd.read_excel(r'.\\8.27.xlsx', sheet_name= 0)\n",
    "data_name=data.loc[start:end,\"姓名\"]\n",
    "data_email=data.loc[start:end,\"邮箱\"]\n",
    "data_content=data.iloc[start:end, [34]]\n",
    "\n",
    "print(datatype(data_content))"
   ]
  },
  {
   "cell_type": "code",
   "execution_count": null,
   "id": "26f4a083",
   "metadata": {},
   "outputs": [],
   "source": []
  }
 ],
 "metadata": {
  "kernelspec": {
   "display_name": "Python 3 (ipykernel)",
   "language": "python",
   "name": "python3"
  },
  "language_info": {
   "codemirror_mode": {
    "name": "ipython",
    "version": 3
   },
   "file_extension": ".py",
   "mimetype": "text/x-python",
   "name": "python",
   "nbconvert_exporter": "python",
   "pygments_lexer": "ipython3",
   "version": "3.9.5"
  }
 },
 "nbformat": 4,
 "nbformat_minor": 5
}
